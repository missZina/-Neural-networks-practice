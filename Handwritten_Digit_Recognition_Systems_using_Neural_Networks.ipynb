{
  "nbformat": 4,
  "nbformat_minor": 0,
  "metadata": {
    "colab": {
      "name": "Handwritten Digit Recognition Systems using  Neural Networks.ipynb",
      "provenance": [],
      "collapsed_sections": [],
      "authorship_tag": "ABX9TyNmC8yuRcTd1P11i10kh9Fu",
      "include_colab_link": true
    },
    "kernelspec": {
      "name": "python3",
      "display_name": "Python 3"
    }
  },
  "cells": [
    {
      "cell_type": "markdown",
      "metadata": {
        "id": "view-in-github",
        "colab_type": "text"
      },
      "source": [
        "<a href=\"https://colab.research.google.com/github/missZina/-Neural-networks-practice/blob/master/Handwritten_Digit_Recognition_Systems_using_Neural_Networks.ipynb\" target=\"_parent\"><img src=\"https://colab.research.google.com/assets/colab-badge.svg\" alt=\"Open In Colab\"/></a>"
      ]
    },
    {
      "cell_type": "markdown",
      "metadata": {
        "id": "JEn9gd8ftzsa",
        "colab_type": "text"
      },
      "source": [
        "#Handwritten Digit Recognition Systems using Neural Networks\n",
        "#Overview and selection criteria\n",
        "The aim of this work is to develop and  experiment a simple neural network and multilayer neural network and convolutional Neural Network (CNN) to recognize and predict handwritten digits from 0 to 9. A dataset of 60000 samples were obtained from MNIST. Our work divided on three phases:\n",
        "\tPhase one:  we develop and experiment three handwritten digits recognition solutions.\n",
        "\tPhase two:  we compare these 3differents neural networks and observing their performance. \n",
        "\tPhase three:  we observe the system performance by set of variation :\n",
        "-\tAddition of hidden layers to model1& increase the training steps number.\n",
        "-\t Increase of iterations number and batch size to model 2.\n",
        "-\t Addition of keras library to model3. \n",
        "-\tChange the dataset to enhance the study of neural networks for given a trial observation."
      ]
    },
    {
      "cell_type": "markdown",
      "metadata": {
        "id": "xiIS-pKut3Mr",
        "colab_type": "text"
      },
      "source": [
        "# Single Neural Network\n",
        "The model is a simple neural network with one hidden layer connected to pixel vector for reduced images have an input value of 784 pixels. A rectifier activation function is used for the neurons in the hidden layer. Finally, the output variable is an integer from 0 to 9 with a SoftMax activation function, where the output layer turns the outputs into probability-like values and allow one class of the 10 to be selected as the model’s output prediction."
      ]
    },
    {
      "cell_type": "code",
      "metadata": {
        "id": "dNBc3Qxqt0HN",
        "colab_type": "code",
        "colab": {
          "base_uri": "https://localhost:8080/",
          "height": 1000
        },
        "outputId": "e0a02ba6-d0d9-45c1-b492-86f070c18080"
      },
      "source": [
        "#Single neural network with one layer only using softmax as function and GradientDescentOptimizer\n",
        "\n",
        "import tensorflow as tf\n",
        "import matplotlib.pyplot as plt\n",
        "import numpy as np\n",
        "\n",
        "# Import MNIST data\n",
        "from tensorflow.examples.tutorials.mnist import input_data\n",
        "mnist = input_data.read_data_sets(\"/tmp/data/\", one_hot=False)\n",
        "\n",
        "# Parameters\n",
        "learning_rate = 0.1\n",
        "num_steps = 2000\n",
        "batch_size = 128\n",
        "\n",
        "\n",
        "# Network Parameters\n",
        "n_hidden_1 = 256 # 1st layer number of neurons\n",
        "num_input = 784 # MNIST data input (img shape: 28*28)\n",
        "num_classes = 10 # MNIST total classes (0-9 digits)\n",
        "\n",
        "# Define the input function for training\n",
        "input_fn = tf.estimator.inputs.numpy_input_fn(\n",
        "    x={'images': mnist.train.images}, y=mnist.train.labels,\n",
        "    batch_size=batch_size, num_epochs=None, shuffle=True)\n",
        "\n",
        "# Define the neural network\n",
        "def neural_net(x_dict):\n",
        "    # TF Estimator input is a dict, in case of multiple inputs\n",
        "    x = x_dict['images']\n",
        "    # Hidden fully connected layer with 256 neurons\n",
        "    layer_1 = tf.layers.dense(x, n_hidden_1)\n",
        "   \n",
        "    # Output fully connected layer with a neuron for each class\n",
        "    out_layer = tf.layers.dense(layer_1, num_classes)\n",
        "    return out_layer\n",
        "  # Define the model function (following TF Estimator Template)\n",
        "def model_fn(features, labels, mode):\n",
        "    \n",
        "    # Build the neural network\n",
        "    logits = neural_net(features)\n",
        "    \n",
        "    # Predictions\n",
        "    pred_classes = tf.argmax(logits, axis=1)\n",
        "    pred_probas = tf.nn.softmax(logits)\n",
        "    \n",
        "    # If prediction mode, early return\n",
        "    if mode == tf.estimator.ModeKeys.PREDICT:\n",
        "        return tf.estimator.EstimatorSpec(mode, predictions=pred_classes) \n",
        "        \n",
        "    # Define loss and optimizer\n",
        "    loss_op = tf.reduce_mean(tf.nn.sparse_softmax_cross_entropy_with_logits(\n",
        "        logits=logits, labels=tf.cast(labels, dtype=tf.int32)))\n",
        "    optimizer = tf.train.GradientDescentOptimizer(learning_rate=learning_rate)\n",
        "    train_op = optimizer.minimize(loss_op, global_step=tf.train.get_global_step())\n",
        "    \n",
        "    # Evaluate the accuracy of the model\n",
        "    acc_op = tf.metrics.accuracy(labels=labels, predictions=pred_classes)\n",
        "    \n",
        "       # training, evaluating operations\n",
        "    estim_specs = tf.estimator.EstimatorSpec(\n",
        "      mode=mode,\n",
        "      predictions=pred_classes,\n",
        "      loss=loss_op,\n",
        "      train_op=train_op,\n",
        "      eval_metric_ops={'accuracy': acc_op})\n",
        "\n",
        "    return estim_specs\n",
        "  \n",
        "  # Build the Estimator\n",
        "model = tf.estimator.Estimator(model_fn)\n",
        "\n",
        "# Train the Model\n",
        "model.train(input_fn, steps=num_steps)\n",
        " \n",
        " \n",
        "# Evaluate the Model & Define the input function for evaluating\n",
        "input_fn = tf.estimator.inputs.numpy_input_fn(\n",
        "    x={'images': mnist.test.images}, y=mnist.test.labels,\n",
        "    batch_size=batch_size, shuffle=False)\n",
        "# Use the Estimator 'evaluate' method\n",
        "model.evaluate(input_fn)\n",
        "# Predict single images\n",
        "n_images = 6\n",
        "# Get images from test set\n",
        "test_images = mnist.test.images[:n_images]\n",
        "# Prepare the input data\n",
        "input_fn = tf.estimator.inputs.numpy_input_fn(\n",
        "    x={'images': test_images}, shuffle=False)\n",
        " \n",
        "\n",
        "\n",
        "# Use the model to predict the images class\n",
        "preds = list(model.predict(input_fn))\n",
        "\n",
        "# Display\n",
        "for i in range(n_images):\n",
        "    plt.imshow(np.reshape(test_images[i], [28, 28]), cmap='gray')\n",
        "    plt.show()\n",
        "    print(\"Model prediction:\", preds[i])"
      ],
      "execution_count": 1,
      "outputs": [
        {
          "output_type": "display_data",
          "data": {
            "text/html": [
              "<p style=\"color: red;\">\n",
              "The default version of TensorFlow in Colab will soon switch to TensorFlow 2.x.<br>\n",
              "We recommend you <a href=\"https://www.tensorflow.org/guide/migrate\" target=\"_blank\">upgrade</a> now \n",
              "or ensure your notebook will continue to use TensorFlow 1.x via the <code>%tensorflow_version 1.x</code> magic:\n",
              "<a href=\"https://colab.research.google.com/notebooks/tensorflow_version.ipynb\" target=\"_blank\">more info</a>.</p>\n"
            ],
            "text/plain": [
              "<IPython.core.display.HTML object>"
            ]
          },
          "metadata": {
            "tags": []
          }
        },
        {
          "output_type": "stream",
          "text": [
            "WARNING:tensorflow:From <ipython-input-1-4356b6c8394f>:8: read_data_sets (from tensorflow.contrib.learn.python.learn.datasets.mnist) is deprecated and will be removed in a future version.\n",
            "Instructions for updating:\n",
            "Please use alternatives such as official/mnist/dataset.py from tensorflow/models.\n",
            "WARNING:tensorflow:From /usr/local/lib/python3.6/dist-packages/tensorflow_core/contrib/learn/python/learn/datasets/mnist.py:260: maybe_download (from tensorflow.contrib.learn.python.learn.datasets.base) is deprecated and will be removed in a future version.\n",
            "Instructions for updating:\n",
            "Please write your own downloading logic.\n",
            "WARNING:tensorflow:From /usr/local/lib/python3.6/dist-packages/tensorflow_core/contrib/learn/python/learn/datasets/base.py:252: _internal_retry.<locals>.wrap.<locals>.wrapped_fn (from tensorflow.contrib.learn.python.learn.datasets.base) is deprecated and will be removed in a future version.\n",
            "Instructions for updating:\n",
            "Please use urllib or similar directly.\n",
            "Successfully downloaded train-images-idx3-ubyte.gz 9912422 bytes.\n",
            "WARNING:tensorflow:From /usr/local/lib/python3.6/dist-packages/tensorflow_core/contrib/learn/python/learn/datasets/mnist.py:262: extract_images (from tensorflow.contrib.learn.python.learn.datasets.mnist) is deprecated and will be removed in a future version.\n",
            "Instructions for updating:\n",
            "Please use tf.data to implement this functionality.\n",
            "Extracting /tmp/data/train-images-idx3-ubyte.gz\n",
            "Successfully downloaded train-labels-idx1-ubyte.gz 28881 bytes.\n",
            "WARNING:tensorflow:From /usr/local/lib/python3.6/dist-packages/tensorflow_core/contrib/learn/python/learn/datasets/mnist.py:267: extract_labels (from tensorflow.contrib.learn.python.learn.datasets.mnist) is deprecated and will be removed in a future version.\n",
            "Instructions for updating:\n",
            "Please use tf.data to implement this functionality.\n",
            "Extracting /tmp/data/train-labels-idx1-ubyte.gz\n",
            "Successfully downloaded t10k-images-idx3-ubyte.gz 1648877 bytes.\n",
            "Extracting /tmp/data/t10k-images-idx3-ubyte.gz\n",
            "Successfully downloaded t10k-labels-idx1-ubyte.gz 4542 bytes.\n",
            "Extracting /tmp/data/t10k-labels-idx1-ubyte.gz\n",
            "WARNING:tensorflow:From /usr/local/lib/python3.6/dist-packages/tensorflow_core/contrib/learn/python/learn/datasets/mnist.py:290: DataSet.__init__ (from tensorflow.contrib.learn.python.learn.datasets.mnist) is deprecated and will be removed in a future version.\n",
            "Instructions for updating:\n",
            "Please use alternatives such as official/mnist/dataset.py from tensorflow/models.\n",
            "INFO:tensorflow:Using default config.\n",
            "WARNING:tensorflow:Using temporary folder as model directory: /tmp/tmpgarezuec\n",
            "INFO:tensorflow:Using config: {'_model_dir': '/tmp/tmpgarezuec', '_tf_random_seed': None, '_save_summary_steps': 100, '_save_checkpoints_steps': None, '_save_checkpoints_secs': 600, '_session_config': allow_soft_placement: true\n",
            "graph_options {\n",
            "  rewrite_options {\n",
            "    meta_optimizer_iterations: ONE\n",
            "  }\n",
            "}\n",
            ", '_keep_checkpoint_max': 5, '_keep_checkpoint_every_n_hours': 10000, '_log_step_count_steps': 100, '_train_distribute': None, '_device_fn': None, '_protocol': None, '_eval_distribute': None, '_experimental_distribute': None, '_experimental_max_worker_delay_secs': None, '_session_creation_timeout_secs': 7200, '_service': None, '_cluster_spec': <tensorflow.python.training.server_lib.ClusterSpec object at 0x7fdb7329d208>, '_task_type': 'worker', '_task_id': 0, '_global_id_in_cluster': 0, '_master': '', '_evaluation_master': '', '_is_chief': True, '_num_ps_replicas': 0, '_num_worker_replicas': 1}\n",
            "WARNING:tensorflow:From /usr/local/lib/python3.6/dist-packages/tensorflow_core/python/training/training_util.py:236: Variable.initialized_value (from tensorflow.python.ops.variables) is deprecated and will be removed in a future version.\n",
            "Instructions for updating:\n",
            "Use Variable.read_value. Variables in 2.X are initialized automatically both in eager and graph (inside tf.defun) contexts.\n",
            "WARNING:tensorflow:From /usr/local/lib/python3.6/dist-packages/tensorflow_estimator/python/estimator/inputs/queues/feeding_queue_runner.py:62: QueueRunner.__init__ (from tensorflow.python.training.queue_runner_impl) is deprecated and will be removed in a future version.\n",
            "Instructions for updating:\n",
            "To construct input pipelines, use the `tf.data` module.\n",
            "WARNING:tensorflow:From /usr/local/lib/python3.6/dist-packages/tensorflow_estimator/python/estimator/inputs/queues/feeding_functions.py:500: add_queue_runner (from tensorflow.python.training.queue_runner_impl) is deprecated and will be removed in a future version.\n",
            "Instructions for updating:\n",
            "To construct input pipelines, use the `tf.data` module.\n",
            "INFO:tensorflow:Calling model_fn.\n",
            "WARNING:tensorflow:From <ipython-input-1-4356b6c8394f>:31: dense (from tensorflow.python.layers.core) is deprecated and will be removed in a future version.\n",
            "Instructions for updating:\n",
            "Use keras.layers.Dense instead.\n",
            "WARNING:tensorflow:From /usr/local/lib/python3.6/dist-packages/tensorflow_core/python/layers/core.py:187: Layer.apply (from tensorflow.python.keras.engine.base_layer) is deprecated and will be removed in a future version.\n",
            "Instructions for updating:\n",
            "Please use `layer.__call__` method instead.\n",
            "INFO:tensorflow:Done calling model_fn.\n",
            "INFO:tensorflow:Create CheckpointSaverHook.\n",
            "WARNING:tensorflow:From /usr/local/lib/python3.6/dist-packages/tensorflow_core/python/ops/array_ops.py:1475: where (from tensorflow.python.ops.array_ops) is deprecated and will be removed in a future version.\n",
            "Instructions for updating:\n",
            "Use tf.where in 2.0, which has the same broadcast rule as np.where\n",
            "INFO:tensorflow:Graph was finalized.\n",
            "INFO:tensorflow:Running local_init_op.\n",
            "INFO:tensorflow:Done running local_init_op.\n",
            "WARNING:tensorflow:From /usr/local/lib/python3.6/dist-packages/tensorflow_core/python/training/monitored_session.py:882: start_queue_runners (from tensorflow.python.training.queue_runner_impl) is deprecated and will be removed in a future version.\n",
            "Instructions for updating:\n",
            "To construct input pipelines, use the `tf.data` module.\n",
            "INFO:tensorflow:Saving checkpoints for 0 into /tmp/tmpgarezuec/model.ckpt.\n",
            "INFO:tensorflow:loss = 2.5918064, step = 1\n",
            "INFO:tensorflow:global_step/sec: 216.033\n",
            "INFO:tensorflow:loss = 0.46917814, step = 101 (0.464 sec)\n",
            "INFO:tensorflow:global_step/sec: 213.353\n",
            "INFO:tensorflow:loss = 0.39468294, step = 201 (0.471 sec)\n",
            "INFO:tensorflow:global_step/sec: 218.737\n",
            "INFO:tensorflow:loss = 0.43244606, step = 301 (0.459 sec)\n",
            "INFO:tensorflow:global_step/sec: 201.997\n",
            "INFO:tensorflow:loss = 0.46020058, step = 401 (0.494 sec)\n",
            "INFO:tensorflow:global_step/sec: 211.669\n",
            "INFO:tensorflow:loss = 0.39732534, step = 501 (0.469 sec)\n",
            "INFO:tensorflow:global_step/sec: 221.159\n",
            "INFO:tensorflow:loss = 0.297253, step = 601 (0.455 sec)\n",
            "INFO:tensorflow:global_step/sec: 216.747\n",
            "INFO:tensorflow:loss = 0.31642926, step = 701 (0.461 sec)\n",
            "INFO:tensorflow:global_step/sec: 215.325\n",
            "INFO:tensorflow:loss = 0.13947764, step = 801 (0.463 sec)\n",
            "INFO:tensorflow:global_step/sec: 204.295\n",
            "INFO:tensorflow:loss = 0.3653803, step = 901 (0.488 sec)\n",
            "INFO:tensorflow:global_step/sec: 211.755\n",
            "INFO:tensorflow:loss = 0.26033923, step = 1001 (0.472 sec)\n",
            "INFO:tensorflow:global_step/sec: 214.363\n",
            "INFO:tensorflow:loss = 0.22961678, step = 1101 (0.466 sec)\n",
            "INFO:tensorflow:global_step/sec: 201.276\n",
            "INFO:tensorflow:loss = 0.25764754, step = 1201 (0.499 sec)\n",
            "INFO:tensorflow:global_step/sec: 199.076\n",
            "INFO:tensorflow:loss = 0.23193434, step = 1301 (0.502 sec)\n",
            "INFO:tensorflow:global_step/sec: 204.887\n",
            "INFO:tensorflow:loss = 0.32050312, step = 1401 (0.488 sec)\n",
            "INFO:tensorflow:global_step/sec: 208.124\n",
            "INFO:tensorflow:loss = 0.2995283, step = 1501 (0.481 sec)\n",
            "INFO:tensorflow:global_step/sec: 214.057\n",
            "INFO:tensorflow:loss = 0.28551826, step = 1601 (0.466 sec)\n",
            "INFO:tensorflow:global_step/sec: 207.605\n",
            "INFO:tensorflow:loss = 0.2947038, step = 1701 (0.482 sec)\n",
            "INFO:tensorflow:global_step/sec: 210.664\n",
            "INFO:tensorflow:loss = 0.2908146, step = 1801 (0.475 sec)\n",
            "INFO:tensorflow:global_step/sec: 212.705\n",
            "INFO:tensorflow:loss = 0.23623005, step = 1901 (0.470 sec)\n",
            "INFO:tensorflow:Saving checkpoints for 2000 into /tmp/tmpgarezuec/model.ckpt.\n",
            "INFO:tensorflow:Loss for final step: 0.18861543.\n",
            "INFO:tensorflow:Calling model_fn.\n",
            "INFO:tensorflow:Done calling model_fn.\n",
            "INFO:tensorflow:Starting evaluation at 2020-01-27T16:35:49Z\n",
            "INFO:tensorflow:Graph was finalized.\n",
            "INFO:tensorflow:Restoring parameters from /tmp/tmpgarezuec/model.ckpt-2000\n",
            "INFO:tensorflow:Running local_init_op.\n",
            "INFO:tensorflow:Done running local_init_op.\n",
            "INFO:tensorflow:Finished evaluation at 2020-01-27-16:35:49\n",
            "INFO:tensorflow:Saving dict for global step 2000: accuracy = 0.9176, global_step = 2000, loss = 0.28117016\n",
            "INFO:tensorflow:Saving 'checkpoint_path' summary for global step 2000: /tmp/tmpgarezuec/model.ckpt-2000\n",
            "INFO:tensorflow:Calling model_fn.\n",
            "INFO:tensorflow:Done calling model_fn.\n",
            "INFO:tensorflow:Graph was finalized.\n",
            "INFO:tensorflow:Restoring parameters from /tmp/tmpgarezuec/model.ckpt-2000\n",
            "INFO:tensorflow:Running local_init_op.\n",
            "INFO:tensorflow:Done running local_init_op.\n"
          ],
          "name": "stdout"
        },
        {
          "output_type": "display_data",
          "data": {
            "image/png": "[encoded data removed]",
            "text/plain": [
              "<Figure size 432x288 with 1 Axes>"
            ]
          },
          "metadata": {
            "tags": []
          }
        },
        {
          "output_type": "stream",
          "text": [
            "Model prediction: 7\n"
          ],
          "name": "stdout"
        },
        {
          "output_type": "display_data",
          "data": {
            "image/png": "[encoded data removed]",
            "text/plain": [
              "<Figure size 432x288 with 1 Axes>"
            ]
          },
          "metadata": {
            "tags": []
          }
        },
        {
          "output_type": "stream",
          "text": [
            "Model prediction: 2\n"
          ],
          "name": "stdout"
        },
        {
          "output_type": "display_data",
          "data": {
            "image/png": "[encoded data removed]",
            "text/plain": [
              "<Figure size 432x288 with 1 Axes>"
            ]
          },
          "metadata": {
            "tags": []
          }
        },
        {
          "output_type": "stream",
          "text": [
            "Model prediction: 1\n"
          ],
          "name": "stdout"
        },
        {
          "output_type": "display_data",
          "data": {
            "image/png": "[encoded data removed]",
            "text/plain": [
              "<Figure size 432x288 with 1 Axes>"
            ]
          },
          "metadata": {
            "tags": []
          }
        },
        {
          "output_type": "stream",
          "text": [
            "Model prediction: 0\n"
          ],
          "name": "stdout"
        },
        {
          "output_type": "display_data",
          "data": {
            "image/png": "[encoded data removed]",
            "text/plain": [
              "<Figure size 432x288 with 1 Axes>"
            ]
          },
          "metadata": {
            "tags": []
          }
        },
        {
          "output_type": "stream",
          "text": [
            "Model prediction: 4\n"
          ],
          "name": "stdout"
        },
        {
          "output_type": "display_data",
          "data": {
            "image/png": "[encoded data removed]",
            "text/plain": [
              "<Figure size 432x288 with 1 Axes>"
            ]
          },
          "metadata": {
            "tags": []
          }
        },
        {
          "output_type": "stream",
          "text": [
            "Model prediction: 1\n"
          ],
          "name": "stdout"
        }
      ]
    },
    {
      "cell_type": "markdown",
      "metadata": {
        "id": "bzbPq37KQ0X4",
        "colab_type": "text"
      },
      "source": [
        "#Model 2 : Multilayer neural network\n",
        "The  deep learning implementation in Keras follows the below pipeline to  get a clear sense of what we are going to achieve through Deep Learning.\n",
        "DL Pipline:\n",
        "\n",
        "-Analyse Data\n",
        "-Prepare the Dataset\n",
        "-Create the Model\n",
        "-Compile the Model\n",
        "-Fit the Model\n",
        "-Evaluate the Model\n",
        "#Model Creation \n",
        "We will use a simple  multilayer neural network model with 784 input neurons. Two hidden layers are used with 256 neurons in hidden layer 1 and 256 neurons in hidden layer 2, followed by a fully connected layer of 10 neurons for taking the probabilities of all the class labels.\n",
        "ReLU is used as the activation function for hidden layers and softmax is used as the activation function for output layer.\n",
        "We are still allowed to tune these parameters (called as hyperparameters) based on the model’s performance. In fact there are algorithms to get the best possible hyper-parameters for our model which could be read.\n"
      ]
    },
    {
      "cell_type": "code",
      "metadata": {
        "id": "xYG2OAF4Q2Us",
        "colab_type": "code",
        "colab": {
          "base_uri": "https://localhost:8080/",
          "height": 1000
        },
        "outputId": "ab59d215-0238-4e3e-c0ca-7b929cbaca5c"
      },
      "source": [
        "# Multi-Layer Perceptron (MLP) in Keras. acc+loss for train //val_loss+val_acc for test\n",
        "\n",
        "#  imports\n",
        "import numpy as np\n",
        "import matplotlib.pyplot as plt\n",
        "from keras.models import Sequential\n",
        "from keras.layers.core import Dense, Activation, Dropout\n",
        "from keras.datasets import mnist\n",
        "from keras.utils import np_utils\n",
        "\n",
        "# fix a random seed for reproducibility\n",
        "np.random.seed(9)\n",
        "\n",
        "# user inputs\n",
        "nb_epoch = 20\n",
        "num_classes = 10\n",
        "batch_size = 128\n",
        "train_size = 60000\n",
        "test_size = 10000\n",
        "v_length = 784\n",
        "\n",
        "# split the mnist data into train and test\n",
        "(trainData, trainLabels), (testData, testLabels) = mnist.load_data()\n",
        "\n",
        "\n",
        "# reshape the dataset\n",
        "trainData = trainData.reshape(train_size, v_length)\n",
        "testData = testData.reshape(test_size, v_length)\n",
        "trainData = trainData.astype(\"float32\")\n",
        "testData = testData.astype(\"float32\")\n",
        "trainData /= 255\n",
        "testData /= 255\n",
        "\n",
        "\n",
        "# convert class vectors to binary class matrices --> one-hot encoding\n",
        "mTrainLabels = np_utils.to_categorical(trainLabels, num_classes)\n",
        "mTestLabels = np_utils.to_categorical(testLabels, num_classes)\n",
        "\n",
        "# model Creation \n",
        "model = Sequential()\n",
        "model.add(Dense(256, input_shape=(784,)))\n",
        "model.add(Activation(\"relu\"))\n",
        "model.add(Dropout(0.2))\n",
        "model.add(Dense(256))\n",
        "model.add(Activation(\"relu\"))\n",
        "model.add(Dropout(0.2))\n",
        "model.add(Dense(num_classes))\n",
        "model.add(Activation(\"softmax\"))\n",
        "\n",
        "# model sumary\n",
        "model.summary()\n",
        "\n",
        "# model compilation \n",
        "model.compile(loss=\"categorical_crossentropy\", optimizer=\"adam\", metrics=[\"accuracy\"])\n",
        "\n",
        "# fit the model\n",
        "history = model.fit(trainData, mTrainLabels, validation_data=(testData, mTestLabels), batch_size=batch_size, nb_epoch=nb_epoch, verbose=2)\n",
        "\n",
        "# print the history keys\n",
        "print(history.history.keys())\n",
        "\n",
        "# evaluate the model\n",
        "scores = model.evaluate(testData, mTestLabels, verbose=0)\n",
        "\n",
        "# history plot for accuracy\n",
        "plt.plot(history.history[\"acc\"])\n",
        "plt.plot(history.history[\"val_acc\"])\n",
        "plt.title(\"Accuracy of Model\")\n",
        "plt.xlabel(\"Epoch\")\n",
        "plt.ylabel(\"Accuracy\")\n",
        "plt.legend([\"train\", \"test\"], loc=\"upper left\")\n",
        "plt.show()\n",
        "\n",
        "# history plot for loss\n",
        "plt.plot(history.history[\"loss\"])\n",
        "plt.plot(history.history[\"val_loss\"])\n",
        "plt.title(\"Loss of Model\")\n",
        "plt.xlabel(\"Epoch\")\n",
        "plt.ylabel(\"Loss\")\n",
        "plt.legend([\"train\", \"test\"], loc=\"upper left\")\n",
        "plt.show()\n",
        "\n",
        "# print the results\n",
        "print(\"[INFO] test score - {}\".format(scores[0]))\n",
        "print(\"[INFO] test accuracy - {}\".format(scores[1]))\n",
        "\n",
        "import matplotlib.pyplot as plt\n",
        "\n",
        "# grab some test images from the test data\n",
        "test_images = testData[1:2]\n",
        "\n",
        "# reshape the test images to standard 28x28 format\n",
        "test_images = test_images.reshape(test_images.shape[0], 28, 28)\n",
        "print(\"[INFO] test images shape - {}\".format(test_images.shape))\n",
        "\n",
        "# loop over each of the test images\n",
        "for i, test_image in enumerate(test_images, start=1):\n",
        "\t# grab a copy of test image for viewing\n",
        "\torg_image = test_image\n",
        "\t\n",
        "\t# reshape the test image to [1x784] format so that our model understands\n",
        "\ttest_image = test_image.reshape(1,784)\n",
        "\t\n",
        "\t# make prediction on test image using our trained model\n",
        "\tprediction = model.predict_classes(test_image, verbose=0)\n",
        "\t\n",
        "\t# display the prediction and image\n",
        "\tprint(\"[INFO] the digit is - {}\".format(prediction[0]))\n",
        "\tplt.subplot(220+i)\n",
        "\tplt.imshow(org_image, cmap=plt.get_cmap('gray'))\n",
        "\n",
        "plt.show()"
      ],
      "execution_count": 2,
      "outputs": [
        {
          "output_type": "stream",
          "text": [
            "Using TensorFlow backend.\n"
          ],
          "name": "stderr"
        },
        {
          "output_type": "stream",
          "text": [
            "Downloading data from https://s3.amazonaws.com/img-datasets/mnist.npz\n",
            "11493376/11490434 [==============================] - 1s 0us/step\n",
            "WARNING:tensorflow:From /usr/local/lib/python3.6/dist-packages/keras/backend/tensorflow_backend.py:66: The name tf.get_default_graph is deprecated. Please use tf.compat.v1.get_default_graph instead.\n",
            "\n",
            "WARNING:tensorflow:From /usr/local/lib/python3.6/dist-packages/keras/backend/tensorflow_backend.py:541: The name tf.placeholder is deprecated. Please use tf.compat.v1.placeholder instead.\n",
            "\n",
            "WARNING:tensorflow:From /usr/local/lib/python3.6/dist-packages/keras/backend/tensorflow_backend.py:4432: The name tf.random_uniform is deprecated. Please use tf.random.uniform instead.\n",
            "\n",
            "WARNING:tensorflow:From /usr/local/lib/python3.6/dist-packages/keras/backend/tensorflow_backend.py:148: The name tf.placeholder_with_default is deprecated. Please use tf.compat.v1.placeholder_with_default instead.\n",
            "\n",
            "WARNING:tensorflow:From /usr/local/lib/python3.6/dist-packages/keras/backend/tensorflow_backend.py:3733: calling dropout (from tensorflow.python.ops.nn_ops) with keep_prob is deprecated and will be removed in a future version.\n",
            "Instructions for updating:\n",
            "Please use `rate` instead of `keep_prob`. Rate should be set to `rate = 1 - keep_prob`.\n",
            "Model: \"sequential_1\"\n",
            "_________________________________________________________________\n",
            "Layer (type)                 Output Shape              Param #   \n",
            "=================================================================\n",
            "dense_1 (Dense)              (None, 256)               200960    \n",
            "_________________________________________________________________\n",
            "activation_1 (Activation)    (None, 256)               0         \n",
            "_________________________________________________________________\n",
            "dropout_1 (Dropout)          (None, 256)               0         \n",
            "_________________________________________________________________\n",
            "dense_2 (Dense)              (None, 256)               65792     \n",
            "_________________________________________________________________\n",
            "activation_2 (Activation)    (None, 256)               0         \n",
            "_________________________________________________________________\n",
            "dropout_2 (Dropout)          (None, 256)               0         \n",
            "_________________________________________________________________\n",
            "dense_3 (Dense)              (None, 10)                2570      \n",
            "_________________________________________________________________\n",
            "activation_3 (Activation)    (None, 10)                0         \n",
            "=================================================================\n",
            "Total params: 269,322\n",
            "Trainable params: 269,322\n",
            "Non-trainable params: 0\n",
            "_________________________________________________________________\n",
            "WARNING:tensorflow:From /usr/local/lib/python3.6/dist-packages/keras/optimizers.py:793: The name tf.train.Optimizer is deprecated. Please use tf.compat.v1.train.Optimizer instead.\n",
            "\n",
            "WARNING:tensorflow:From /usr/local/lib/python3.6/dist-packages/keras/backend/tensorflow_backend.py:3576: The name tf.log is deprecated. Please use tf.math.log instead.\n",
            "\n"
          ],
          "name": "stdout"
        },
        {
          "output_type": "stream",
          "text": [
            "/usr/local/lib/python3.6/dist-packages/ipykernel_launcher.py:54: UserWarning: The `nb_epoch` argument in `fit` has been renamed `epochs`.\n"
          ],
          "name": "stderr"
        },
        {
          "output_type": "stream",
          "text": [
            "WARNING:tensorflow:From /usr/local/lib/python3.6/dist-packages/keras/backend/tensorflow_backend.py:1033: The name tf.assign_add is deprecated. Please use tf.compat.v1.assign_add instead.\n",
            "\n",
            "WARNING:tensorflow:From /usr/local/lib/python3.6/dist-packages/keras/backend/tensorflow_backend.py:1020: The name tf.assign is deprecated. Please use tf.compat.v1.assign instead.\n",
            "\n",
            "WARNING:tensorflow:From /usr/local/lib/python3.6/dist-packages/keras/backend/tensorflow_backend.py:3005: The name tf.Session is deprecated. Please use tf.compat.v1.Session instead.\n",
            "\n",
            "Train on 60000 samples, validate on 10000 samples\n",
            "Epoch 1/20\n",
            "WARNING:tensorflow:From /usr/local/lib/python3.6/dist-packages/keras/backend/tensorflow_backend.py:190: The name tf.get_default_session is deprecated. Please use tf.compat.v1.get_default_session instead.\n",
            "\n",
            "WARNING:tensorflow:From /usr/local/lib/python3.6/dist-packages/keras/backend/tensorflow_backend.py:197: The name tf.ConfigProto is deprecated. Please use tf.compat.v1.ConfigProto instead.\n",
            "\n",
            "WARNING:tensorflow:From /usr/local/lib/python3.6/dist-packages/keras/backend/tensorflow_backend.py:207: The name tf.global_variables is deprecated. Please use tf.compat.v1.global_variables instead.\n",
            "\n",
            "WARNING:tensorflow:From /usr/local/lib/python3.6/dist-packages/keras/backend/tensorflow_backend.py:216: The name tf.is_variable_initialized is deprecated. Please use tf.compat.v1.is_variable_initialized instead.\n",
            "\n",
            "WARNING:tensorflow:From /usr/local/lib/python3.6/dist-packages/keras/backend/tensorflow_backend.py:223: The name tf.variables_initializer is deprecated. Please use tf.compat.v1.variables_initializer instead.\n",
            "\n",
            " - 5s - loss: 0.3123 - acc: 0.9069 - val_loss: 0.1234 - val_acc: 0.9631\n",
            "Epoch 2/20\n",
            " - 5s - loss: 0.1289 - acc: 0.9615 - val_loss: 0.0902 - val_acc: 0.9705\n",
            "Epoch 3/20\n",
            " - 5s - loss: 0.0941 - acc: 0.9711 - val_loss: 0.0717 - val_acc: 0.9787\n",
            "Epoch 4/20\n",
            " - 5s - loss: 0.0736 - acc: 0.9773 - val_loss: 0.0749 - val_acc: 0.9754\n",
            "Epoch 5/20\n",
            " - 5s - loss: 0.0625 - acc: 0.9801 - val_loss: 0.0719 - val_acc: 0.9783\n",
            "Epoch 6/20\n",
            " - 5s - loss: 0.0529 - acc: 0.9832 - val_loss: 0.0625 - val_acc: 0.9797\n",
            "Epoch 7/20\n",
            " - 5s - loss: 0.0458 - acc: 0.9855 - val_loss: 0.0626 - val_acc: 0.9821\n",
            "Epoch 8/20\n",
            " - 5s - loss: 0.0405 - acc: 0.9865 - val_loss: 0.0576 - val_acc: 0.9827\n",
            "Epoch 9/20\n",
            " - 5s - loss: 0.0384 - acc: 0.9873 - val_loss: 0.0611 - val_acc: 0.9825\n",
            "Epoch 10/20\n",
            " - 5s - loss: 0.0332 - acc: 0.9888 - val_loss: 0.0695 - val_acc: 0.9798\n",
            "Epoch 11/20\n",
            " - 5s - loss: 0.0305 - acc: 0.9900 - val_loss: 0.0690 - val_acc: 0.9806\n",
            "Epoch 12/20\n",
            " - 5s - loss: 0.0268 - acc: 0.9912 - val_loss: 0.0575 - val_acc: 0.9841\n",
            "Epoch 13/20\n",
            " - 5s - loss: 0.0253 - acc: 0.9915 - val_loss: 0.0674 - val_acc: 0.9828\n",
            "Epoch 14/20\n",
            " - 5s - loss: 0.0266 - acc: 0.9910 - val_loss: 0.0718 - val_acc: 0.9820\n",
            "Epoch 15/20\n",
            " - 5s - loss: 0.0239 - acc: 0.9917 - val_loss: 0.0701 - val_acc: 0.9814\n",
            "Epoch 16/20\n",
            " - 5s - loss: 0.0204 - acc: 0.9931 - val_loss: 0.0760 - val_acc: 0.9814\n",
            "Epoch 17/20\n",
            " - 5s - loss: 0.0217 - acc: 0.9932 - val_loss: 0.0671 - val_acc: 0.9825\n",
            "Epoch 18/20\n",
            " - 5s - loss: 0.0202 - acc: 0.9934 - val_loss: 0.0663 - val_acc: 0.9826\n",
            "Epoch 19/20\n",
            " - 5s - loss: 0.0205 - acc: 0.9932 - val_loss: 0.0684 - val_acc: 0.9829\n",
            "Epoch 20/20\n",
            " - 5s - loss: 0.0200 - acc: 0.9933 - val_loss: 0.0659 - val_acc: 0.9847\n",
            "dict_keys(['val_loss', 'val_acc', 'loss', 'acc'])\n"
          ],
          "name": "stdout"
        },
        {
          "output_type": "display_data",
          "data": {
            "image/png": "[encoded data removed]",
            "text/plain": [
              "<Figure size 432x288 with 1 Axes>"
            ]
          },
          "metadata": {
            "tags": []
          }
        },
        {
          "output_type": "display_data",
          "data": {
            "image/png": "[encoded data removed]",
            "text/plain": [
              "<Figure size 432x288 with 1 Axes>"
            ]
          },
          "metadata": {
            "tags": []
          }
        },
        {
          "output_type": "stream",
          "text": [
            "[INFO] test score - 0.0658658425272154\n",
            "[INFO] test accuracy - 0.9847\n",
            "[INFO] test images shape - (1, 28, 28)\n",
            "[INFO] the digit is - 2\n"
          ],
          "name": "stdout"
        },
        {
          "output_type": "display_data",
          "data": {
            "image/png": "[encoded data removed]",
            "text/plain": [
              "<Figure size 432x288 with 1 Axes>"
            ]
          },
          "metadata": {
            "tags": []
          }
        }
      ]
    },
    {
      "cell_type": "markdown",
      "metadata": {
        "id": "fVGiGk35R69E",
        "colab_type": "text"
      },
      "source": [
        "#Model 3 Convolutional  neural network\n",
        "-Input\n",
        "-Convolution1\n",
        "-Pooling 1 \n",
        "-Convolution 2\n",
        "-Pooling 2\n",
        "-Flatten Filter\n",
        "-Fully Connected Layer\n",
        "#           Network Parameters    \n",
        "-Convolution Layer 1 with 64 filters and a kernel size of 3\n",
        "-Max Pooling with strides of 2 and kernel size of 2\n",
        "-Convolution Layer  2 with 32 filters and a kernel size of 5\n",
        "-Max Pooling  with strides of 2 and kernel size of 2\n",
        "-fully connected layer of 10 neurons\n",
        "\n",
        "#Model creation \n",
        "Our third model  is CNN with 3 hidden layers .The first hidden layer is the convolution layer 1 which is responsible for features extraction from input data. This layer performs Convolution operation to small localized area by convolving a filter with the next layer. It consists of multiple features maps with learnable kernels and rectified linear unit (RELU ). The kernel  size determines the locality of the filters.\n",
        "Convolution Layer 1 with 64 filters and a kernel size of 3.\n",
        "Convolution Layer 2 with 32 filters and a kernel size of 5.\n",
        "Relu is used as an activation function at the end of each convolution layer as well a fully connected layer enhance the performance of the model. Between every convolution layer we use a pooling layer to reduce an output  information from convolution layer and reduce the number of parameters and computational complexity of the model.\n"
      ]
    },
    {
      "cell_type": "code",
      "metadata": {
        "id": "_n54I0fEU-hk",
        "colab_type": "code",
        "colab": {
          "base_uri": "https://localhost:8080/",
          "height": 1000
        },
        "outputId": "bcfe7a41-c856-40b4-a327-9286a9ca37d9"
      },
      "source": [
        "from __future__ import division, print_function, absolute_import\n",
        "import numpy as np\n",
        "# Import MNIST data\n",
        "from tensorflow.examples.tutorials.mnist import input_data\n",
        "mnist = input_data.read_data_sets(\"/tmp/data/\", one_hot=False)\n",
        "import matplotlib.pyplot as plt\n",
        "import tensorflow as tf\n",
        "# Training Parameters\n",
        "learning_rate = 0.001\n",
        "num_steps = 500\n",
        "batch_size = 128\n",
        "# Network Parameters\n",
        "num_input = 784 # MNIST data input (img shape: 28*28)\n",
        "num_classes = 10 # MNIST total classes (0-9 digits)\n",
        "dropout = 0.25 # Dropout, probability to drop a unit\n",
        "\n",
        "\n",
        "# Create the neural network\n",
        "def conv_net(x_dict, n_classes, dropout, reuse, is_training):\n",
        "    # Define a scope for reusing the variables\n",
        "    with tf.variable_scope('ConvNet', reuse=reuse):\n",
        "        # TF Estimator input is a dict, in case of multiple inputs\n",
        "        x = x_dict['images']\n",
        "\n",
        "        # MNIST data input is a 1-D vector of 784 features (28*28 pixels)\n",
        "        # Reshape to match picture format [Height x Width x Channel]\n",
        "        # Tensor input become 4-D: [Batch Size, Height, Width, Channel]\n",
        "        x = tf.reshape(x, shape=[-1, 28, 28, 1])\n",
        "        # Convolution Layer with 64 filters and a kernel size of 3\n",
        "        conv1 = tf.layers.conv2d(x, 64, 3, activation=tf.nn.relu)\n",
        "        # Max Pooling (down-sampling) with strides of 2 and kernel size of 2\n",
        "        conv1 = tf.layers.max_pooling2d(conv1, 2, 2)\n",
        "        # Convolution Layer with 32 filters and a kernel size of 5\n",
        "        conv2 = tf.layers.conv2d(conv1, 32, 5, activation=tf.nn.relu)\n",
        "        # Max Pooling (down-sampling) with strides of 2 and kernel size of 2\n",
        "        conv2 = tf.layers.max_pooling2d(conv2, 2, 2)\n",
        "        # Flatten the data to a 1-D vector for the fully connected layer\n",
        "        fc1 = tf.contrib.layers.flatten(conv2)\n",
        "        # Fully connected layer (in tf contrib folder for now)\n",
        "        fc1 = tf.layers.dense(fc1, 1024)\n",
        "        # Apply Dropout (if is_training is False, dropout is not applied)\n",
        "        fc1 = tf.layers.dropout(fc1, rate=dropout, training=is_training)\n",
        "        # Output layer, class prediction\n",
        "        out = tf.layers.dense(fc1, n_classes)\n",
        "\n",
        "    return out\n",
        "# Define the model function (following TF Estimator Template)\n",
        "def model_fn(features, labels, mode):\n",
        "    # Build the neural network\n",
        "    # Because Dropout have different behavior at training and prediction time, we\n",
        "    # need to create 2 distinct computation graphs that still share the same weights.\n",
        "    logits_train = conv_net(features, num_classes, dropout, reuse=False,\n",
        "                            is_training=True)\n",
        "    logits_test = conv_net(features, num_classes, dropout, reuse=True,\n",
        "                           is_training=False)\n",
        "    # Predictions\n",
        "    pred_classes = tf.argmax(logits_test, axis=1)\n",
        "    pred_probas = tf.nn.softmax(logits_test)\n",
        "    # If prediction mode, early return\n",
        "    if mode == tf.estimator.ModeKeys.PREDICT:\n",
        "        return tf.estimator.EstimatorSpec(mode, predictions=pred_classes)\n",
        "        # Define loss and optimizer\n",
        "    loss_op = tf.reduce_mean(tf.nn.sparse_softmax_cross_entropy_with_logits(\n",
        "        logits=logits_train, labels=tf.cast(labels, dtype=tf.int32)))\n",
        "    optimizer = tf.train.AdamOptimizer(learning_rate=learning_rate)\n",
        "    train_op = optimizer.minimize(loss_op,\n",
        "                                  global_step=tf.train.get_global_step())\n",
        "    # Evaluate the accuracy of the model\n",
        "    acc_op = tf.metrics.accuracy(labels=labels, predictions=pred_classes)\n",
        "    # TF Estimators requires to return a EstimatorSpec, that specify\n",
        "    # the different ops for training, evaluating, ...\n",
        "    estim_specs = tf.estimator.EstimatorSpec(\n",
        "        mode=mode,\n",
        "        predictions=pred_classes,\n",
        "        loss=loss_op,\n",
        "        train_op=train_op,\n",
        "        eval_metric_ops={'accuracy': acc_op})\n",
        "    return estim_specs\n",
        "# Build the Estimator\n",
        "model = tf.estimator.Estimator(model_fn)\n",
        "# Define the input function for training\n",
        "input_fn = tf.estimator.inputs.numpy_input_fn(\n",
        "    x={'images': mnist.train.images}, y=mnist.train.labels,\n",
        "    batch_size=batch_size, num_epochs=None, shuffle=True)\n",
        "# Train the Model\n",
        "model.train(input_fn, steps=num_steps)\n",
        "# Evaluate the Model\n",
        "# Define the input function for evaluating\n",
        "input_fn = tf.estimator.inputs.numpy_input_fn(\n",
        "    x={'images': mnist.test.images}, y=mnist.test.labels,\n",
        "    batch_size=batch_size, shuffle=False)\n",
        "# Use the Estimator 'evaluate' method\n",
        "e = model.evaluate(input_fn)\n",
        "print(\"Testing Accuracy:\", e['accuracy'])\n",
        "# Predict single images\n",
        "n_images = 7\n",
        "# Get images from test set\n",
        "test_images = mnist.test.images[:n_images]\n",
        "# Prepare the input data\n",
        "input_fn = tf.estimator.inputs.numpy_input_fn(\n",
        "    x={'images': test_images}, shuffle=False)\n",
        "# Use the model to predict the images class\n",
        "preds = list(model.predict(input_fn))\n",
        "# Display\n",
        "for i in range(n_images):\n",
        "    plt.imshow(np.reshape(test_images[i], [28, 28]), cmap='gray')\n",
        "    plt.show()\n",
        "    print(\"Model prediction:\", preds[i]) \n"
      ],
      "execution_count": 3,
      "outputs": [
        {
          "output_type": "stream",
          "text": [
            "Extracting /tmp/data/train-images-idx3-ubyte.gz\n",
            "Extracting /tmp/data/train-labels-idx1-ubyte.gz\n",
            "Extracting /tmp/data/t10k-images-idx3-ubyte.gz\n",
            "Extracting /tmp/data/t10k-labels-idx1-ubyte.gz\n",
            "INFO:tensorflow:Using default config.\n",
            "WARNING:tensorflow:Using temporary folder as model directory: /tmp/tmpq1eu8uae\n",
            "INFO:tensorflow:Using config: {'_model_dir': '/tmp/tmpq1eu8uae', '_tf_random_seed': None, '_save_summary_steps': 100, '_save_checkpoints_steps': None, '_save_checkpoints_secs': 600, '_session_config': allow_soft_placement: true\n",
            "graph_options {\n",
            "  rewrite_options {\n",
            "    meta_optimizer_iterations: ONE\n",
            "  }\n",
            "}\n",
            ", '_keep_checkpoint_max': 5, '_keep_checkpoint_every_n_hours': 10000, '_log_step_count_steps': 100, '_train_distribute': None, '_device_fn': None, '_protocol': None, '_eval_distribute': None, '_experimental_distribute': None, '_experimental_max_worker_delay_secs': None, '_session_creation_timeout_secs': 7200, '_service': None, '_cluster_spec': <tensorflow.python.training.server_lib.ClusterSpec object at 0x7fdb6c253e80>, '_task_type': 'worker', '_task_id': 0, '_global_id_in_cluster': 0, '_master': '', '_evaluation_master': '', '_is_chief': True, '_num_ps_replicas': 0, '_num_worker_replicas': 1}\n",
            "INFO:tensorflow:Calling model_fn.\n",
            "WARNING:tensorflow:From <ipython-input-3-d95452154da8>:30: conv2d (from tensorflow.python.layers.convolutional) is deprecated and will be removed in a future version.\n",
            "Instructions for updating:\n",
            "Use `tf.keras.layers.Conv2D` instead.\n",
            "WARNING:tensorflow:From <ipython-input-3-d95452154da8>:32: max_pooling2d (from tensorflow.python.layers.pooling) is deprecated and will be removed in a future version.\n",
            "Instructions for updating:\n",
            "Use keras.layers.MaxPooling2D instead.\n",
            "WARNING:tensorflow:\n",
            "The TensorFlow contrib module will not be included in TensorFlow 2.0.\n",
            "For more information, please see:\n",
            "  * https://github.com/tensorflow/community/blob/master/rfcs/20180907-contrib-sunset.md\n",
            "  * https://github.com/tensorflow/addons\n",
            "  * https://github.com/tensorflow/io (for I/O related ops)\n",
            "If you depend on functionality not listed there, please file an issue.\n",
            "\n",
            "WARNING:tensorflow:From /usr/local/lib/python3.6/dist-packages/tensorflow_core/contrib/layers/python/layers/layers.py:1634: flatten (from tensorflow.python.layers.core) is deprecated and will be removed in a future version.\n",
            "Instructions for updating:\n",
            "Use keras.layers.flatten instead.\n",
            "WARNING:tensorflow:From <ipython-input-3-d95452154da8>:42: dropout (from tensorflow.python.layers.core) is deprecated and will be removed in a future version.\n",
            "Instructions for updating:\n",
            "Use keras.layers.dropout instead.\n",
            "INFO:tensorflow:Done calling model_fn.\n",
            "INFO:tensorflow:Create CheckpointSaverHook.\n",
            "INFO:tensorflow:Graph was finalized.\n",
            "INFO:tensorflow:Running local_init_op.\n",
            "INFO:tensorflow:Done running local_init_op.\n",
            "INFO:tensorflow:Saving checkpoints for 0 into /tmp/tmpq1eu8uae/model.ckpt.\n",
            "INFO:tensorflow:loss = 2.3100042, step = 1\n",
            "INFO:tensorflow:global_step/sec: 5.20327\n",
            "INFO:tensorflow:loss = 0.06609802, step = 101 (19.220 sec)\n",
            "INFO:tensorflow:global_step/sec: 5.16532\n",
            "INFO:tensorflow:loss = 0.14092074, step = 201 (19.360 sec)\n",
            "INFO:tensorflow:global_step/sec: 5.19869\n",
            "INFO:tensorflow:loss = 0.07928314, step = 301 (19.238 sec)\n",
            "INFO:tensorflow:global_step/sec: 5.16359\n",
            "INFO:tensorflow:loss = 0.050147273, step = 401 (19.363 sec)\n",
            "INFO:tensorflow:Saving checkpoints for 500 into /tmp/tmpq1eu8uae/model.ckpt.\n",
            "INFO:tensorflow:Loss for final step: 0.0141870845.\n",
            "INFO:tensorflow:Calling model_fn.\n",
            "INFO:tensorflow:Done calling model_fn.\n",
            "INFO:tensorflow:Starting evaluation at 2020-01-27T18:55:18Z\n",
            "INFO:tensorflow:Graph was finalized.\n",
            "INFO:tensorflow:Restoring parameters from /tmp/tmpq1eu8uae/model.ckpt-500\n",
            "INFO:tensorflow:Running local_init_op.\n",
            "INFO:tensorflow:Done running local_init_op.\n",
            "INFO:tensorflow:Finished evaluation at 2020-01-27-18:55:22\n",
            "INFO:tensorflow:Saving dict for global step 500: accuracy = 0.9847, global_step = 500, loss = 0.045748558\n",
            "INFO:tensorflow:Saving 'checkpoint_path' summary for global step 500: /tmp/tmpq1eu8uae/model.ckpt-500\n",
            "Testing Accuracy: 0.9847\n",
            "INFO:tensorflow:Calling model_fn.\n",
            "INFO:tensorflow:Done calling model_fn.\n",
            "INFO:tensorflow:Graph was finalized.\n",
            "INFO:tensorflow:Restoring parameters from /tmp/tmpq1eu8uae/model.ckpt-500\n",
            "INFO:tensorflow:Running local_init_op.\n",
            "INFO:tensorflow:Done running local_init_op.\n"
          ],
          "name": "stdout"
        },
        {
          "output_type": "display_data",
          "data": {
            "image/png": "[encoded data removed]",
            "text/plain": [
              "<Figure size 432x288 with 1 Axes>"
            ]
          },
          "metadata": {
            "tags": []
          }
        },
        {
          "output_type": "stream",
          "text": [
            "Model prediction: 7\n"
          ],
          "name": "stdout"
        },
        {
          "output_type": "display_data",
          "data": {
            "image/png": "[encoded data removed]",
            "text/plain": [
              "<Figure size 432x288 with 1 Axes>"
            ]
          },
          "metadata": {
            "tags": []
          }
        },
        {
          "output_type": "stream",
          "text": [
            "Model prediction: 2\n"
          ],
          "name": "stdout"
        },
        {
          "output_type": "display_data",
          "data": {
            "image/png": "[encoded data removed]",
            "text/plain": [
              "<Figure size 432x288 with 1 Axes>"
            ]
          },
          "metadata": {
            "tags": []
          }
        },
        {
          "output_type": "stream",
          "text": [
            "Model prediction: 1\n"
          ],
          "name": "stdout"
        },
        {
          "output_type": "display_data",
          "data": {
            "image/png": "[encoded data removed]",
            "text/plain": [
              "<Figure size 432x288 with 1 Axes>"
            ]
          },
          "metadata": {
            "tags": []
          }
        },
        {
          "output_type": "stream",
          "text": [
            "Model prediction: 0\n"
          ],
          "name": "stdout"
        },
        {
          "output_type": "display_data",
          "data": {
            "image/png": "[encoded data removed]",
            "text/plain": [
              "<Figure size 432x288 with 1 Axes>"
            ]
          },
          "metadata": {
            "tags": []
          }
        },
        {
          "output_type": "stream",
          "text": [
            "Model prediction: 4\n"
          ],
          "name": "stdout"
        },
        {
          "output_type": "display_data",
          "data": {
            "image/png": "[encoded data removed]",
            "text/plain": [
              "<Figure size 432x288 with 1 Axes>"
            ]
          },
          "metadata": {
            "tags": []
          }
        },
        {
          "output_type": "stream",
          "text": [
            "Model prediction: 1\n"
          ],
          "name": "stdout"
        },
        {
          "output_type": "display_data",
          "data": {
            "image/png": "[encoded data removed]",
            "text/plain": [
              "<Figure size 432x288 with 1 Axes>"
            ]
          },
          "metadata": {
            "tags": []
          }
        },
        {
          "output_type": "stream",
          "text": [
            "Model prediction: 4\n"
          ],
          "name": "stdout"
        }
      ]
    },
    {
      "cell_type": "markdown",
      "metadata": {
        "id": "D-EnlJ59XFUM",
        "colab_type": "text"
      },
      "source": [
        "#Model Results \n",
        "#Model 1 : Single neural network \n",
        "\n",
        "Our first model is with very simple architecture only one layer without any addition of powerful library like keras .In first time we trained this model for1000 step and we obtained the following result:\n",
        "\n",
        "   \n",
        " Model 1:\tstep= 1000\tRunningTime=14.98s\t Accuracy=0.9179  \tloss=0.2901 //\n",
        " global step 2000: accuracy = 0.9176, global_step = 2000, loss = 0.28117016\n"
      ]
    },
    {
      "cell_type": "markdown",
      "metadata": {
        "id": "6pqwkjRoY6UZ",
        "colab_type": "text"
      },
      "source": [
        "#Model 2 : Multilayer neural network with keras \n",
        "In our second neural network we used keras which give more performance to our Model.\n",
        "Keras is a high-level neural networks API, written in Python and capable of running on top of TensorFlow, CNTK, or Theano. It was developed with a focus on enabling fast experimentation. Being able to go from idea to result with the least possible delay is key to doing good research. It allows for easy and fast prototyping (through user friendliness, modularity, and extensibility). Supports both convolutional networks and recurrent networks, as well as combinations of the two.\n",
        "We get that result :\n",
        "\n",
        "epochs = 20 loss: 0.0200 - acc: 0.9933 "
      ]
    },
    {
      "cell_type": "markdown",
      "metadata": {
        "id": "0ai2H6CuZfS9",
        "colab_type": "text"
      },
      "source": [
        "#Model 3 :  Convolutional neural netwok\n",
        "the Architecture of Convolutional Network that we  implemented with parameters details and we obtained 0.9851 accuracy for 1000 number of training step and 0.988 accuracy for 2000 number of step that real demonstrates the power of this network and it fiability \n",
        "# Models Comparison \t\n",
        "\n",
        "three solutions for digit handwritten using many architectures .we starts with a simple combination of parameters (one hidden layer with input data extracted from MNIST). We used as activation function the well-known Softmax, as optimizer GradientDescent. Then we looked to improve our experimentation and improve the system performance. We trained the Multilayer network with 2 hidden layers using keras which is more efficient .the accuracy is increased from 0.9179 to 0.9934 for 20 epoch.Moved to the third Model which use a convolution, it give us a good accuracy in comparison with a first models.\n",
        "\n",
        "#how we can optimize the system performance?\n",
        "#What is the impact of each parameter?\n",
        "\n",
        "\n",
        "\n",
        "\n"
      ]
    },
    {
      "cell_type": "markdown",
      "metadata": {
        "id": "TDdvnnlQhsaw",
        "colab_type": "text"
      },
      "source": [
        "we move to the deep study of neural networks to optimize the system performance. We focused to show the importance of every parameter and their influence in the accuracy of the recognition of handwritten digits. We keep the type of solutions that used in previous SNN & MLNN & CNN.\n",
        "We change some parameters for each model like number of step, increase epoch for second model, add one layer to first model .change batch size and add keras library for third model.Change the data set as enhancement of study and we reprogrammed a solution to this new dataset. We observe the variation of accuracies for each change.\n",
        "To optimize the system performance and make an in-depth study of the neural networks, we worked on set of parameters change. First we took previous networks (simple neural network & multilayer nn & convolutional nn) as a reference then we program new models with new proposed parameters.\n",
        "We will compile those new models and we will observe their performance.\n",
        "For each model we will compare the new observed accuracies with the old ones with initial parameters.\n",
        "\n",
        "Parameters:\n",
        "-\tNumber of step \n",
        "-\tEpoch \n",
        "-\tBatch size\n",
        "-\tAddition of layer \n",
        "-\tAddition of keras library \n",
        "-\tChange of dataset \n"
      ]
    },
    {
      "cell_type": "markdown",
      "metadata": {
        "id": "MyeE0UHMioSC",
        "colab_type": "text"
      },
      "source": [
        "#Observation\n",
        "we observe that the accuracy for 1000 steps is 0.9179 and for 2000 steps is \n",
        "0.9207, it  means in our case that the increment of number of step increase the performance of model.\n",
        "\n",
        "Simple architecture with  one layer only gives us acceptable accuracy of 0.9179\n",
        "\n",
        "Change 2:\n",
        "We will add one layer of 512 neurons to our first model .We will increase batch size to 200\n",
        "And we variate the number of training step 500, 1000, 2000, 3000\n",
        "-Simple neural network with 2 layers and the increment of batch size and step number give a good accuracy of 0.9234.\n",
        "Change1: increase of bach size and step number \n",
        " \n",
        "-Model3: is a convlolutional neural network we trained for batch size of 128 with number of step 500, 1000,2000. Now we change batch size to 200 and step to 2000, 3000,4000.\n"
      ]
    },
    {
      "cell_type": "markdown",
      "metadata": {
        "id": "iwYpQFoWkPVN",
        "colab_type": "text"
      },
      "source": [
        "This result of accuracy let us think that we don’t need other change or addition of libraries like keras or other internal change like addition of convolution layers or implement other algorithms.\n",
        "What will happen if we add keras to the structure of convolutional neural network?\n",
        "Change2: Addition of keras library to the convolutional neural network \n",
        "When we talk about addition of library to the structure of neural network it seems easy and only we add one instruction of code .In reality, we will reprogram a neural network code.\n",
        "# model Creation  before keras \n",
        "        # Convolution Layer with 64 filters and a kernel size of 3\n",
        "        conv1 = tf.layers.conv2d(x, 64, 3, activation=tf.nn.relu)\n",
        "        # Max Pooling (down-sampling) with strides of 2 and kernel size of 2\n",
        "        conv1 = tf.layers.max_pooling2d (conv1, 2, 2)\n",
        "        # Convolution Layer with 32 filters and a kernel size of 5\n",
        "        conv2 = tf.layers.conv2d(conv1, 32, 5, activation=tf.nn.relu)\n",
        "        # Max Pooling (down-sampling) with strides of 2 and kernel size of 2\n",
        "        conv2 = tf.layers.max_pooling2d(conv2, 2, 2)\n",
        "        # Flatten the data to a 1-D vector for the fully connected layer\n",
        "        fc1 = tf.contrib.layers.flatten(conv2)\n",
        "        # Fully connected layer (in tf contrib folder for now)\n",
        "        fc1 = tf.layers.dense(fc1, 1024)\n"
      ]
    },
    {
      "cell_type": "markdown",
      "metadata": {
        "id": "BRw3tv0lkyd9",
        "colab_type": "text"
      },
      "source": [
        "After addition of keras libray, the code restructured as per keras implementation. \n",
        "# create model\n",
        "\tmodel = Sequential()\n",
        "\tmodel.add(Conv2D(64, (3, 3), input_shape=(1, 28, 28), activation=’relu’))\n",
        "\tmodel.add(MaxPooling2D(pool_size=(2, 2)))\n",
        "\t\n",
        "            model.add(Conv2D(32, (5, 5), input_shape=(1, 28, 28), activation=’relu’))\n",
        "\tmodel.add(MaxPooling2D(pool_size=(2, 2)))\n",
        "\tmodel.add(Dropout(0.2))\n",
        "\n",
        "\tmodel.add(Flatten())\n",
        "\tmodel.add(Dense(128, activation=’relu’))\n",
        "\tmodel.add(Dense(num_classes, activation=’softmax’))\n",
        "\n"
      ]
    },
    {
      "cell_type": "markdown",
      "metadata": {
        "id": "sAHmiMxllXOs",
        "colab_type": "text"
      },
      "source": [
        "as per table of CNN accuracies, The performance increase from case to case.\n",
        "Simple convolution network give an acceptable accuracy of 0.9889. addition of keras reach \n",
        "0.9942 for10 epoch & 0.9971 for 20 epochs.\n",
        "#Change of data set \n",
        "To enhance our neural network study and variate our experimentation to obtain exactitude of notes and rules, we changed the recognition of handwritten to the recognition of other picture and use of fashion MNIST  data set as a change of kind of data image. \n",
        "Fashion-MNIST is a dataset of Zalando’s fashion article images —consisting of a training set of 60,000 examples and a test set of 10,000 examples. Each instance is a 28×28 grayscale image, associated with a label.The class labels for Fashion MNIST are 10 class.\n",
        "\n",
        "\n",
        "\n",
        "\n"
      ]
    },
    {
      "cell_type": "code",
      "metadata": {
        "id": "qdDaaj7hmU17",
        "colab_type": "code",
        "colab": {}
      },
      "source": [
        "#Import data from Fshion mnist \n",
        " \n",
        "from keras. Datasets import fashion_mnist\n",
        "((trainX, trainY), (testX, testY)) = fashion_mnist.load_data()\n",
        "\n"
      ],
      "execution_count": 0,
      "outputs": []
    },
    {
      "cell_type": "markdown",
      "metadata": {
        "id": "CLhjOQKAmtBz",
        "colab_type": "text"
      },
      "source": [
        "#Why trying other dataset?\n",
        "We trained other data set to have the trial approve for our experimentation and show the influence of datset on model networks performance.\n",
        "Previously we used the MNIST dataset which contains a lot of handwritten digits. People from AI/ML/Data Science community love this dataset and use it as a benchmark to validate their algorithms. As per them experimentation they found that:\n"
      ]
    },
    {
      "cell_type": "markdown",
      "metadata": {
        "id": "83fpdZPinBXp",
        "colab_type": "text"
      },
      "source": [
        "MNIST is too easy\n",
        " -MNIST is overused.\n",
        " -MNIST can not represent modern CV tasks.\n",
        "To choose the right quantity of dataset to train neural network models, we have to take on consideration those points:\n",
        "                        -the type of data (digits, pictures, video, object,ex..) and the field of use.\n",
        "                        -Quantity of data. \n",
        "                        -The number of records to take from the databases.\n",
        "                       - The size of the sample needed to yield expected performance outcomes.\n",
        "                       - The split of data for training and testing or use an alternate approach.\n",
        "                       -For fashion mnist we obtained accuracy of 0.88 when used Multi-layers network-keras model.\n",
        "\n"
      ]
    },
    {
      "cell_type": "markdown",
      "metadata": {
        "id": "DDkbDSW2nsrt",
        "colab_type": "text"
      },
      "source": [
        "#Result  \n",
        "All results obtained in previous training of models with initiate parameters or change parameters are acceptable for our classification of Digits handwritten despite the simplicity of algorithm used for training. The reasons are the simplicity of dataset MNIST and the type of image and it characteristic.\n",
        "In general, we concluded that the neural networks models are related to different types of parameters. As per our experience in this report. We classified these parameters :\n",
        "- NN architecture\n",
        "-Libraries\n",
        "-Algorithms\n",
        "-Dataset\n",
        "-Input Data Type\n",
        "- Training steps & epoch                           \n"
      ]
    }
  ]
}